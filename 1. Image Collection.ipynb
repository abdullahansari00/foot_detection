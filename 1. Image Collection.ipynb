{
 "cells": [
  {
   "cell_type": "markdown",
   "metadata": {},
   "source": [
    "# 1. Import Dependencies"
   ]
  },
  {
   "cell_type": "code",
   "execution_count": 1,
   "metadata": {},
   "outputs": [
    {
     "name": "stdout",
     "output_type": "stream",
     "text": [
      "Collecting opencv-python\n",
      "  Using cached opencv_python-4.5.1.48-cp38-cp38-win_amd64.whl (34.9 MB)\n",
      "Collecting numpy>=1.17.3\n",
      "  Using cached numpy-1.20.2-cp38-cp38-win_amd64.whl (13.7 MB)\n",
      "Installing collected packages: numpy, opencv-python\n",
      "Successfully installed numpy-1.20.2 opencv-python-4.5.1.48\n"
     ]
    }
   ],
   "source": [
    "!pip install opencv-python"
   ]
  },
  {
   "cell_type": "code",
   "execution_count": 2,
   "metadata": {},
   "outputs": [],
   "source": [
    "# Import opencv\n",
    "import cv2 \n",
    "\n",
    "# Import uuid\n",
    "import uuid\n",
    "\n",
    "# Import Operating System\n",
    "import os\n",
    "\n",
    "# Import time\n",
    "import time"
   ]
  },
  {
   "cell_type": "markdown",
   "metadata": {},
   "source": [
    "# 2. Define Images to Collect"
   ]
  },
  {
   "cell_type": "code",
   "execution_count": 3,
   "metadata": {},
   "outputs": [],
   "source": [
    "labels = ['foot']\n",
    "number_imgs = 12"
   ]
  },
  {
   "cell_type": "markdown",
   "metadata": {},
   "source": [
    "# 3. Setup Folders "
   ]
  },
  {
   "cell_type": "code",
   "execution_count": 1,
   "metadata": {},
   "outputs": [
    {
     "ename": "NameError",
     "evalue": "name 'os' is not defined",
     "output_type": "error",
     "traceback": [
      "\u001b[1;31m---------------------------------------------------------------------------\u001b[0m",
      "\u001b[1;31mNameError\u001b[0m                                 Traceback (most recent call last)",
      "\u001b[1;32m<ipython-input-1-171c4558f1ea>\u001b[0m in \u001b[0;36m<module>\u001b[1;34m\u001b[0m\n\u001b[1;32m----> 1\u001b[1;33m \u001b[0mIMAGES_PATH\u001b[0m \u001b[1;33m=\u001b[0m \u001b[0mos\u001b[0m\u001b[1;33m.\u001b[0m\u001b[0mpath\u001b[0m\u001b[1;33m.\u001b[0m\u001b[0mjoin\u001b[0m\u001b[1;33m(\u001b[0m\u001b[1;34m'Tensorflow'\u001b[0m\u001b[1;33m,\u001b[0m \u001b[1;34m'workspace'\u001b[0m\u001b[1;33m,\u001b[0m \u001b[1;34m'images'\u001b[0m\u001b[1;33m,\u001b[0m \u001b[1;34m'collectedimages'\u001b[0m\u001b[1;33m)\u001b[0m\u001b[1;33m\u001b[0m\u001b[1;33m\u001b[0m\u001b[0m\n\u001b[0m",
      "\u001b[1;31mNameError\u001b[0m: name 'os' is not defined"
     ]
    }
   ],
   "source": [
    "IMAGES_PATH = os.path.join('Tensorflow', 'workspace', 'images', 'collectedimages')"
   ]
  },
  {
   "cell_type": "code",
   "execution_count": 5,
   "metadata": {},
   "outputs": [],
   "source": [
    "if not os.path.exists(IMAGES_PATH):\n",
    "    !mkdir {IMAGES_PATH}\n",
    "for label in labels:\n",
    "    path = os.path.join(IMAGES_PATH, label)\n",
    "    if not os.path.exists(path):\n",
    "        !mkdir {path}"
   ]
  },
  {
   "cell_type": "markdown",
   "metadata": {},
   "source": [
    "# 4. Capture Images"
   ]
  },
  {
   "cell_type": "code",
   "execution_count": 8,
   "metadata": {},
   "outputs": [
    {
     "name": "stdout",
     "output_type": "stream",
     "text": [
      "Collecting images for foot\n",
      "Collecting image 0\n",
      "Collecting image 1\n",
      "Collecting image 2\n",
      "Collecting image 3\n",
      "Collecting image 4\n",
      "Collecting image 5\n",
      "Collecting image 6\n",
      "Collecting image 7\n",
      "Collecting image 8\n",
      "Collecting image 9\n",
      "Collecting image 10\n",
      "Collecting image 11\n"
     ]
    }
   ],
   "source": [
    "for label in labels:\n",
    "    cap = cv2.VideoCapture(0)\n",
    "    print('Collecting images for {}'.format(label))\n",
    "#     time.sleep(5)\n",
    "    for imgnum in range(number_imgs):\n",
    "        print('Collecting image {}'.format(imgnum))\n",
    "        ret, frame = cap.read()\n",
    "        imgname = os.path.join(IMAGES_PATH,label,label+'.'+'{}.jpg'.format(str(uuid.uuid1())))\n",
    "        cv2.imwrite(imgname, frame)\n",
    "        cv2.imshow('frame', frame)\n",
    "        time.sleep(5)\n",
    "\n",
    "        if cv2.waitKey(1) & 0xFF == ord('q'):\n",
    "            break\n",
    "cap.release()\n",
    "cv2.destroyAllWindows()"
   ]
  },
  {
   "cell_type": "markdown",
   "metadata": {},
   "source": [
    "# 5. Image Labelling"
   ]
  },
  {
   "cell_type": "code",
   "execution_count": 9,
   "metadata": {},
   "outputs": [
    {
     "name": "stdout",
     "output_type": "stream",
     "text": [
      "Collecting pyqt5\n",
      "  Using cached PyQt5-5.15.4-cp36.cp37.cp38.cp39-none-win_amd64.whl (6.8 MB)\n",
      "Collecting lxml\n",
      "  Using cached lxml-4.6.3-cp38-cp38-win_amd64.whl (3.5 MB)\n",
      "Collecting PyQt5-Qt5>=5.15\n",
      "  Using cached PyQt5_Qt5-5.15.2-py3-none-win_amd64.whl (50.1 MB)\n",
      "Collecting PyQt5-sip<13,>=12.8\n",
      "  Using cached PyQt5_sip-12.8.1-cp38-cp38-win_amd64.whl (63 kB)\n",
      "Installing collected packages: PyQt5-sip, PyQt5-Qt5, pyqt5, lxml\n",
      "Successfully installed PyQt5-Qt5-5.15.2 PyQt5-sip-12.8.1 lxml-4.6.3 pyqt5-5.15.4\n"
     ]
    }
   ],
   "source": [
    "!pip install --upgrade pyqt5 lxml"
   ]
  },
  {
   "cell_type": "code",
   "execution_count": 10,
   "metadata": {},
   "outputs": [],
   "source": [
    "LABELIMG_PATH = os.path.join('Tensorflow', 'labelimg')"
   ]
  },
  {
   "cell_type": "code",
   "execution_count": 11,
   "metadata": {},
   "outputs": [
    {
     "name": "stderr",
     "output_type": "stream",
     "text": [
      "Cloning into 'Tensorflow\\labelimg'...\n"
     ]
    }
   ],
   "source": [
    "if not os.path.exists(LABELIMG_PATH):\n",
    "    !mkdir {LABELIMG_PATH}\n",
    "    !git clone https://github.com/tzutalin/labelImg {LABELIMG_PATH}"
   ]
  },
  {
   "cell_type": "code",
   "execution_count": 12,
   "metadata": {},
   "outputs": [],
   "source": [
    "!cd {LABELIMG_PATH} && pyrcc5 -o libs/resources.py resources.qrc"
   ]
  },
  {
   "cell_type": "code",
   "execution_count": 13,
   "metadata": {},
   "outputs": [
    {
     "name": "stdout",
     "output_type": "stream",
     "text": [
      "Image:D:\\PROGRAMS\\Python\\foot\\Tensorflow\\workspace\\images\\collectedimages\\foot\\foot.0cea255d-ab74-11eb-b6be-98e7434ea6f9.jpg -> Annotation:D:/PROGRAMS/Python/foot/Tensorflow/workspace/images/collectedimages/foot\\foot.0cea255d-ab74-11eb-b6be-98e7434ea6f9.xml\n",
      "Image:D:\\PROGRAMS\\Python\\foot\\Tensorflow\\workspace\\images\\collectedimages\\foot\\foot.1bfaab7e-ab74-11eb-a48c-98e7434ea6f9.jpg -> Annotation:D:/PROGRAMS/Python/foot/Tensorflow/workspace/images/collectedimages/foot\\foot.1bfaab7e-ab74-11eb-a48c-98e7434ea6f9.xml\n",
      "Image:D:\\PROGRAMS\\Python\\foot\\Tensorflow\\workspace\\images\\collectedimages\\foot\\foot.1f0c4213-ab74-11eb-9fa6-98e7434ea6f9.jpg -> Annotation:D:/PROGRAMS/Python/foot/Tensorflow/workspace/images/collectedimages/foot\\foot.1f0c4213-ab74-11eb-9fa6-98e7434ea6f9.xml\n",
      "Image:D:\\PROGRAMS\\Python\\foot\\Tensorflow\\workspace\\images\\collectedimages\\foot\\foot.18fa19ca-ab74-11eb-9acb-98e7434ea6f9.jpg -> Annotation:D:/PROGRAMS/Python/foot/Tensorflow/workspace/images/collectedimages/foot\\foot.18fa19ca-ab74-11eb-9acb-98e7434ea6f9.xml\n",
      "Image:D:\\PROGRAMS\\Python\\foot\\Tensorflow\\workspace\\images\\collectedimages\\foot\\foot.220d7ab7-ab74-11eb-a879-98e7434ea6f9.jpg -> Annotation:D:/PROGRAMS/Python/foot/Tensorflow/workspace/images/collectedimages/foot\\foot.220d7ab7-ab74-11eb-a879-98e7434ea6f9.xml\n",
      "Image:D:\\PROGRAMS\\Python\\foot\\Tensorflow\\workspace\\images\\collectedimages\\foot\\foot.c4ceb7f6-ab74-11eb-b550-98e7434ea6f9.jpg -> Annotation:D:/PROGRAMS/Python/foot/Tensorflow/workspace/images/collectedimages/foot\\foot.c4ceb7f6-ab74-11eb-b550-98e7434ea6f9.xml\n",
      "Image:D:\\PROGRAMS\\Python\\foot\\Tensorflow\\workspace\\images\\collectedimages\\foot\\foot.c7d3e0c1-ab74-11eb-ae72-98e7434ea6f9.jpg -> Annotation:D:/PROGRAMS/Python/foot/Tensorflow/workspace/images/collectedimages/foot\\foot.c7d3e0c1-ab74-11eb-ae72-98e7434ea6f9.xml\n",
      "Image:D:\\PROGRAMS\\Python\\foot\\Tensorflow\\workspace\\images\\collectedimages\\foot\\foot.d6e7a8e9-ab74-11eb-bea9-98e7434ea6f9.jpg -> Annotation:D:/PROGRAMS/Python/foot/Tensorflow/workspace/images/collectedimages/foot\\foot.d6e7a8e9-ab74-11eb-bea9-98e7434ea6f9.xml\n",
      "Image:D:\\PROGRAMS\\Python\\foot\\Tensorflow\\workspace\\images\\collectedimages\\foot\\foot.d9eb2f74-ab74-11eb-8a44-98e7434ea6f9.jpg -> Annotation:D:/PROGRAMS/Python/foot/Tensorflow/workspace/images/collectedimages/foot\\foot.d9eb2f74-ab74-11eb-8a44-98e7434ea6f9.xml\n",
      "Image:D:\\PROGRAMS\\Python\\foot\\Tensorflow\\workspace\\images\\collectedimages\\foot\\foot.dcf91d0c-ab74-11eb-b74e-98e7434ea6f9.jpg -> Annotation:D:/PROGRAMS/Python/foot/Tensorflow/workspace/images/collectedimages/foot\\foot.dcf91d0c-ab74-11eb-b74e-98e7434ea6f9.xml\n",
      "Image:D:\\PROGRAMS\\Python\\foot\\Tensorflow\\workspace\\images\\collectedimages\\foot\\foot.dffbd24c-ab74-11eb-b1ea-98e7434ea6f9.jpg -> Annotation:D:/PROGRAMS/Python/foot/Tensorflow/workspace/images/collectedimages/foot\\foot.dffbd24c-ab74-11eb-b1ea-98e7434ea6f9.xml\n"
     ]
    }
   ],
   "source": [
    "!cd {LABELIMG_PATH} && python labelImg.py"
   ]
  },
  {
   "cell_type": "markdown",
   "metadata": {},
   "source": [
    "# 6. Move them into a Training and Testing Partition"
   ]
  },
  {
   "cell_type": "markdown",
   "metadata": {},
   "source": [
    "# OPTIONAL - 7. Compress them for Colab Training"
   ]
  },
  {
   "cell_type": "code",
   "execution_count": null,
   "metadata": {},
   "outputs": [],
   "source": [
    "TRAIN_PATH = os.path.join('Tensorflow', 'workspace', 'images', 'train')\n",
    "TEST_PATH = os.path.join('Tensorflow', 'workspace', 'images', 'test')\n",
    "ARCHIVE_PATH = os.path.join('Tensorflow', 'workspace', 'images', 'archive.tar.gz')"
   ]
  },
  {
   "cell_type": "code",
   "execution_count": null,
   "metadata": {},
   "outputs": [],
   "source": [
    "!tar -czf {ARCHIVE_PATH} {TRAIN_PATH} {TEST_PATH}"
   ]
  },
  {
   "cell_type": "code",
   "execution_count": null,
   "metadata": {},
   "outputs": [],
   "source": []
  }
 ],
 "metadata": {
  "kernelspec": {
   "display_name": "new",
   "language": "python",
   "name": "new"
  },
  "language_info": {
   "codemirror_mode": {
    "name": "ipython",
    "version": 3
   },
   "file_extension": ".py",
   "mimetype": "text/x-python",
   "name": "python",
   "nbconvert_exporter": "python",
   "pygments_lexer": "ipython3",
   "version": "3.8.8"
  }
 },
 "nbformat": 4,
 "nbformat_minor": 2
}
